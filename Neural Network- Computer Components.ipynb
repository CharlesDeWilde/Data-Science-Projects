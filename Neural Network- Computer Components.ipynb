{
 "cells": [
  {
   "cell_type": "code",
   "execution_count": 1,
   "id": "8161c831",
   "metadata": {},
   "outputs": [],
   "source": [
    "import pandas as pd"
   ]
  },
  {
   "cell_type": "code",
   "execution_count": 2,
   "id": "0f46d1c2",
   "metadata": {},
   "outputs": [
    {
     "data": {
      "text/html": [
       "<div>\n",
       "<style scoped>\n",
       "    .dataframe tbody tr th:only-of-type {\n",
       "        vertical-align: middle;\n",
       "    }\n",
       "\n",
       "    .dataframe tbody tr th {\n",
       "        vertical-align: top;\n",
       "    }\n",
       "\n",
       "    .dataframe thead th {\n",
       "        text-align: right;\n",
       "    }\n",
       "</style>\n",
       "<table border=\"1\" class=\"dataframe\">\n",
       "  <thead>\n",
       "    <tr style=\"text-align: right;\">\n",
       "      <th></th>\n",
       "      <th>Configuration Index</th>\n",
       "      <th>RAM (GB)</th>\n",
       "      <th>Processor Speeds (GHz)</th>\n",
       "      <th>Integrated Wireless</th>\n",
       "      <th>HD Size (GB)</th>\n",
       "      <th>Bundled Applications</th>\n",
       "      <th>Retail Price</th>\n",
       "    </tr>\n",
       "  </thead>\n",
       "  <tbody>\n",
       "    <tr>\n",
       "      <th>0</th>\n",
       "      <td>290</td>\n",
       "      <td>1</td>\n",
       "      <td>1.5</td>\n",
       "      <td>Yes</td>\n",
       "      <td>40</td>\n",
       "      <td>No</td>\n",
       "      <td>287</td>\n",
       "    </tr>\n",
       "    <tr>\n",
       "      <th>1</th>\n",
       "      <td>208</td>\n",
       "      <td>2</td>\n",
       "      <td>1.5</td>\n",
       "      <td>No</td>\n",
       "      <td>300</td>\n",
       "      <td>No</td>\n",
       "      <td>329</td>\n",
       "    </tr>\n",
       "    <tr>\n",
       "      <th>2</th>\n",
       "      <td>292</td>\n",
       "      <td>1</td>\n",
       "      <td>1.5</td>\n",
       "      <td>Yes</td>\n",
       "      <td>80</td>\n",
       "      <td>No</td>\n",
       "      <td>315</td>\n",
       "    </tr>\n",
       "    <tr>\n",
       "      <th>3</th>\n",
       "      <td>342</td>\n",
       "      <td>2</td>\n",
       "      <td>1.5</td>\n",
       "      <td>Yes</td>\n",
       "      <td>120</td>\n",
       "      <td>No</td>\n",
       "      <td>357</td>\n",
       "    </tr>\n",
       "    <tr>\n",
       "      <th>4</th>\n",
       "      <td>304</td>\n",
       "      <td>1</td>\n",
       "      <td>1.5</td>\n",
       "      <td>No</td>\n",
       "      <td>300</td>\n",
       "      <td>No</td>\n",
       "      <td>357</td>\n",
       "    </tr>\n",
       "  </tbody>\n",
       "</table>\n",
       "</div>"
      ],
      "text/plain": [
       "   Configuration Index  RAM (GB)  Processor Speeds (GHz) Integrated Wireless  \\\n",
       "0                  290         1                     1.5                 Yes   \n",
       "1                  208         2                     1.5                  No   \n",
       "2                  292         1                     1.5                 Yes   \n",
       "3                  342         2                     1.5                 Yes   \n",
       "4                  304         1                     1.5                  No   \n",
       "\n",
       "   HD Size (GB) Bundled Applications  Retail Price  \n",
       "0            40                   No           287  \n",
       "1           300                   No           329  \n",
       "2            80                   No           315  \n",
       "3           120                   No           357  \n",
       "4           300                   No           357  "
      ]
     },
     "execution_count": 2,
     "metadata": {},
     "output_type": "execute_result"
    }
   ],
   "source": [
    "sales = pd.read_csv (\"C:/Users/sanja/Downloads/LaptopSales.csv\")\n",
    "sales.head(5)"
   ]
  },
  {
   "cell_type": "code",
   "execution_count": 5,
   "id": "981d27b4",
   "metadata": {},
   "outputs": [
    {
     "data": {
      "text/plain": [
       "Configuration Index         int64\n",
       "RAM (GB)                    int64\n",
       "Processor Speeds (GHz)    float64\n",
       "Integrated Wireless        object\n",
       "HD Size (GB)                int64\n",
       "Bundled Applications       object\n",
       "Retail Price                int64\n",
       "dtype: object"
      ]
     },
     "execution_count": 5,
     "metadata": {},
     "output_type": "execute_result"
    }
   ],
   "source": [
    "sales.dtypes"
   ]
  },
  {
   "cell_type": "code",
   "execution_count": 6,
   "id": "015278c7",
   "metadata": {},
   "outputs": [
    {
     "data": {
      "text/html": [
       "<div>\n",
       "<style scoped>\n",
       "    .dataframe tbody tr th:only-of-type {\n",
       "        vertical-align: middle;\n",
       "    }\n",
       "\n",
       "    .dataframe tbody tr th {\n",
       "        vertical-align: top;\n",
       "    }\n",
       "\n",
       "    .dataframe thead th {\n",
       "        text-align: right;\n",
       "    }\n",
       "</style>\n",
       "<table border=\"1\" class=\"dataframe\">\n",
       "  <thead>\n",
       "    <tr style=\"text-align: right;\">\n",
       "      <th></th>\n",
       "      <th>Configuration Index</th>\n",
       "      <th>RAM (GB)</th>\n",
       "      <th>Processor Speeds (GHz)</th>\n",
       "      <th>HD Size (GB)</th>\n",
       "      <th>Retail Price</th>\n",
       "    </tr>\n",
       "  </thead>\n",
       "  <tbody>\n",
       "    <tr>\n",
       "      <th>count</th>\n",
       "      <td>25649.000000</td>\n",
       "      <td>25649.000000</td>\n",
       "      <td>25649.000000</td>\n",
       "      <td>25649.000000</td>\n",
       "      <td>25649.000000</td>\n",
       "    </tr>\n",
       "    <tr>\n",
       "      <th>mean</th>\n",
       "      <td>371.427424</td>\n",
       "      <td>2.194121</td>\n",
       "      <td>1.910168</td>\n",
       "      <td>131.352489</td>\n",
       "      <td>370.166595</td>\n",
       "    </tr>\n",
       "    <tr>\n",
       "      <th>std</th>\n",
       "      <td>225.426489</td>\n",
       "      <td>1.100078</td>\n",
       "      <td>0.410171</td>\n",
       "      <td>99.101622</td>\n",
       "      <td>68.489926</td>\n",
       "    </tr>\n",
       "    <tr>\n",
       "      <th>min</th>\n",
       "      <td>1.000000</td>\n",
       "      <td>1.000000</td>\n",
       "      <td>1.500000</td>\n",
       "      <td>40.000000</td>\n",
       "      <td>168.000000</td>\n",
       "    </tr>\n",
       "    <tr>\n",
       "      <th>25%</th>\n",
       "      <td>201.000000</td>\n",
       "      <td>1.000000</td>\n",
       "      <td>1.500000</td>\n",
       "      <td>40.000000</td>\n",
       "      <td>322.000000</td>\n",
       "    </tr>\n",
       "    <tr>\n",
       "      <th>50%</th>\n",
       "      <td>332.000000</td>\n",
       "      <td>2.000000</td>\n",
       "      <td>2.000000</td>\n",
       "      <td>80.000000</td>\n",
       "      <td>364.000000</td>\n",
       "    </tr>\n",
       "    <tr>\n",
       "      <th>75%</th>\n",
       "      <td>542.000000</td>\n",
       "      <td>2.000000</td>\n",
       "      <td>2.400000</td>\n",
       "      <td>120.000000</td>\n",
       "      <td>413.000000</td>\n",
       "    </tr>\n",
       "    <tr>\n",
       "      <th>max</th>\n",
       "      <td>864.000000</td>\n",
       "      <td>4.000000</td>\n",
       "      <td>2.400000</td>\n",
       "      <td>300.000000</td>\n",
       "      <td>623.000000</td>\n",
       "    </tr>\n",
       "  </tbody>\n",
       "</table>\n",
       "</div>"
      ],
      "text/plain": [
       "       Configuration Index      RAM (GB)  Processor Speeds (GHz)  \\\n",
       "count         25649.000000  25649.000000            25649.000000   \n",
       "mean            371.427424      2.194121                1.910168   \n",
       "std             225.426489      1.100078                0.410171   \n",
       "min               1.000000      1.000000                1.500000   \n",
       "25%             201.000000      1.000000                1.500000   \n",
       "50%             332.000000      2.000000                2.000000   \n",
       "75%             542.000000      2.000000                2.400000   \n",
       "max             864.000000      4.000000                2.400000   \n",
       "\n",
       "       HD Size (GB)  Retail Price  \n",
       "count  25649.000000  25649.000000  \n",
       "mean     131.352489    370.166595  \n",
       "std       99.101622     68.489926  \n",
       "min       40.000000    168.000000  \n",
       "25%       40.000000    322.000000  \n",
       "50%       80.000000    364.000000  \n",
       "75%      120.000000    413.000000  \n",
       "max      300.000000    623.000000  "
      ]
     },
     "execution_count": 6,
     "metadata": {},
     "output_type": "execute_result"
    }
   ],
   "source": [
    "sales.describe()"
   ]
  },
  {
   "cell_type": "code",
   "execution_count": 7,
   "id": "83c92096",
   "metadata": {},
   "outputs": [
    {
     "data": {
      "text/plain": [
       "Configuration Index       False\n",
       "RAM (GB)                  False\n",
       "Processor Speeds (GHz)    False\n",
       "Integrated Wireless       False\n",
       "HD Size (GB)              False\n",
       "Bundled Applications      False\n",
       "Retail Price              False\n",
       "dtype: bool"
      ]
     },
     "execution_count": 7,
     "metadata": {},
     "output_type": "execute_result"
    }
   ],
   "source": [
    "sales.isnull().any()"
   ]
  },
  {
   "cell_type": "code",
   "execution_count": 12,
   "id": "997e57bf",
   "metadata": {},
   "outputs": [],
   "source": [
    "X = pd.get_dummies(sales[['Configuration Index','RAM (GB)', 'Processor Speeds (GHz)', 'Integrated Wireless',\n",
    "'HD Size (GB)', 'Bundled Applications']], drop_first = True)\n",
    "y = sales[['Retail Price']]"
   ]
  },
  {
   "cell_type": "code",
   "execution_count": 10,
   "id": "19e89fe0",
   "metadata": {},
   "outputs": [
    {
     "data": {
      "text/plain": [
       "(25649, 6)"
      ]
     },
     "execution_count": 10,
     "metadata": {},
     "output_type": "execute_result"
    }
   ],
   "source": [
    "X.shape"
   ]
  },
  {
   "cell_type": "code",
   "execution_count": 15,
   "id": "8cb872d7",
   "metadata": {},
   "outputs": [
    {
     "data": {
      "text/plain": [
       "(25649, 1)"
      ]
     },
     "execution_count": 15,
     "metadata": {},
     "output_type": "execute_result"
    }
   ],
   "source": [
    "y.shape"
   ]
  },
  {
   "cell_type": "code",
   "execution_count": 16,
   "id": "291c6c55",
   "metadata": {},
   "outputs": [
    {
     "data": {
      "text/plain": [
       "(20519, 6)"
      ]
     },
     "execution_count": 16,
     "metadata": {},
     "output_type": "execute_result"
    }
   ],
   "source": [
    "from sklearn.model_selection import train_test_split\n",
    "X_train, X_test, y_train, y_test = train_test_split(X, y, test_size=0.2, random_state=0)\n",
    "X_train.shape"
   ]
  },
  {
   "cell_type": "markdown",
   "id": "48a7e6dd",
   "metadata": {},
   "source": [
    "***Define Keras Model***"
   ]
  },
  {
   "cell_type": "markdown",
   "id": "83b0e543",
   "metadata": {},
   "source": [
    "*Now let's create a neural network with the following layers with different number of units:*\n",
    "\n",
    "1. The first hidden layer has 12 nodes and uses the reLU activation function.\n",
    "2. The second hidden layer has 8 nodes and uses the reLU activation function.\n",
    "3. The output layer has one node with no activation function\n"
   ]
  },
  {
   "cell_type": "code",
   "execution_count": 22,
   "id": "b372d183",
   "metadata": {},
   "outputs": [
    {
     "name": "stdout",
     "output_type": "stream",
     "text": [
      "Collecting tensorflow\n",
      "  Downloading tensorflow-2.15.0-cp310-cp310-win_amd64.whl (2.1 kB)\n",
      "Collecting tensorflow-intel==2.15.0\n",
      "  Downloading tensorflow_intel-2.15.0-cp310-cp310-win_amd64.whl (300.9 MB)\n",
      "     -------------------------------------- 300.9/300.9 MB 9.4 MB/s eta 0:00:00\n",
      "Collecting opt-einsum>=2.3.2\n",
      "  Downloading opt_einsum-3.3.0-py3-none-any.whl (65 kB)\n",
      "     ---------------------------------------- 65.5/65.5 kB 1.7 MB/s eta 0:00:00\n",
      "Collecting absl-py>=1.0.0\n",
      "  Downloading absl_py-2.0.0-py3-none-any.whl (130 kB)\n",
      "     ---------------------------------------- 130.2/130.2 kB ? eta 0:00:00\n",
      "Collecting keras<2.16,>=2.15.0\n",
      "  Downloading keras-2.15.0-py3-none-any.whl (1.7 MB)\n",
      "     ---------------------------------------- 1.7/1.7 MB 27.4 MB/s eta 0:00:00\n",
      "Collecting tensorboard<2.16,>=2.15\n",
      "  Downloading tensorboard-2.15.1-py3-none-any.whl (5.5 MB)\n",
      "     ---------------------------------------- 5.5/5.5 MB 29.4 MB/s eta 0:00:00\n",
      "Collecting google-pasta>=0.1.1\n",
      "  Downloading google_pasta-0.2.0-py3-none-any.whl (57 kB)\n",
      "     ---------------------------------------- 57.5/57.5 kB ? eta 0:00:00\n",
      "Requirement already satisfied: setuptools in c:\\users\\sanja\\anaconda3\\lib\\site-packages (from tensorflow-intel==2.15.0->tensorflow) (65.6.3)\n",
      "Collecting gast!=0.5.0,!=0.5.1,!=0.5.2,>=0.2.1\n",
      "  Downloading gast-0.5.4-py3-none-any.whl (19 kB)\n",
      "Collecting tensorflow-io-gcs-filesystem>=0.23.1\n",
      "  Downloading tensorflow_io_gcs_filesystem-0.31.0-cp310-cp310-win_amd64.whl (1.5 MB)\n",
      "     ---------------------------------------- 1.5/1.5 MB 31.4 MB/s eta 0:00:00\n",
      "Collecting ml-dtypes~=0.2.0\n",
      "  Downloading ml_dtypes-0.2.0-cp310-cp310-win_amd64.whl (938 kB)\n",
      "     ------------------------------------- 938.6/938.6 kB 58.0 MB/s eta 0:00:00\n",
      "Requirement already satisfied: numpy<2.0.0,>=1.23.5 in c:\\users\\sanja\\anaconda3\\lib\\site-packages (from tensorflow-intel==2.15.0->tensorflow) (1.23.5)\n",
      "Requirement already satisfied: packaging in c:\\users\\sanja\\anaconda3\\lib\\site-packages (from tensorflow-intel==2.15.0->tensorflow) (22.0)\n",
      "Collecting protobuf!=4.21.0,!=4.21.1,!=4.21.2,!=4.21.3,!=4.21.4,!=4.21.5,<5.0.0dev,>=3.20.3\n",
      "  Downloading protobuf-4.25.1-cp310-abi3-win_amd64.whl (413 kB)\n",
      "     ---------------------------------------- 413.4/413.4 kB ? eta 0:00:00\n",
      "Collecting astunparse>=1.6.0\n",
      "  Downloading astunparse-1.6.3-py2.py3-none-any.whl (12 kB)\n",
      "Requirement already satisfied: h5py>=2.9.0 in c:\\users\\sanja\\anaconda3\\lib\\site-packages (from tensorflow-intel==2.15.0->tensorflow) (3.7.0)\n",
      "Requirement already satisfied: typing-extensions>=3.6.6 in c:\\users\\sanja\\anaconda3\\lib\\site-packages (from tensorflow-intel==2.15.0->tensorflow) (4.4.0)\n",
      "Collecting termcolor>=1.1.0\n",
      "  Downloading termcolor-2.3.0-py3-none-any.whl (6.9 kB)\n",
      "Collecting flatbuffers>=23.5.26\n",
      "  Downloading flatbuffers-23.5.26-py2.py3-none-any.whl (26 kB)\n",
      "Collecting grpcio<2.0,>=1.24.3\n",
      "  Downloading grpcio-1.59.2-cp310-cp310-win_amd64.whl (3.7 MB)\n",
      "     ---------------------------------------- 3.7/3.7 MB 26.0 MB/s eta 0:00:00\n",
      "Collecting tensorflow-estimator<2.16,>=2.15.0\n",
      "  Downloading tensorflow_estimator-2.15.0-py2.py3-none-any.whl (441 kB)\n",
      "     ------------------------------------- 442.0/442.0 kB 27.0 MB/s eta 0:00:00\n",
      "Requirement already satisfied: six>=1.12.0 in c:\\users\\sanja\\anaconda3\\lib\\site-packages (from tensorflow-intel==2.15.0->tensorflow) (1.16.0)\n",
      "Collecting libclang>=13.0.0\n",
      "  Downloading libclang-16.0.6-py2.py3-none-win_amd64.whl (24.4 MB)\n",
      "     --------------------------------------- 24.4/24.4 MB 28.4 MB/s eta 0:00:00\n",
      "Requirement already satisfied: wrapt<1.15,>=1.11.0 in c:\\users\\sanja\\anaconda3\\lib\\site-packages (from tensorflow-intel==2.15.0->tensorflow) (1.14.1)\n",
      "Requirement already satisfied: wheel<1.0,>=0.23.0 in c:\\users\\sanja\\anaconda3\\lib\\site-packages (from astunparse>=1.6.0->tensorflow-intel==2.15.0->tensorflow) (0.38.4)\n",
      "Collecting google-auth<3,>=1.6.3\n",
      "  Downloading google_auth-2.23.4-py2.py3-none-any.whl (183 kB)\n",
      "     ---------------------------------------- 183.3/183.3 kB ? eta 0:00:00\n",
      "Collecting google-auth-oauthlib<2,>=0.5\n",
      "  Downloading google_auth_oauthlib-1.1.0-py2.py3-none-any.whl (19 kB)\n",
      "Requirement already satisfied: markdown>=2.6.8 in c:\\users\\sanja\\anaconda3\\lib\\site-packages (from tensorboard<2.16,>=2.15->tensorflow-intel==2.15.0->tensorflow) (3.4.1)\n",
      "Collecting protobuf!=4.21.0,!=4.21.1,!=4.21.2,!=4.21.3,!=4.21.4,!=4.21.5,<5.0.0dev,>=3.20.3\n",
      "  Downloading protobuf-4.23.4-cp310-abi3-win_amd64.whl (422 kB)\n",
      "     ------------------------------------- 422.5/422.5 kB 25.8 MB/s eta 0:00:00\n",
      "Requirement already satisfied: werkzeug>=1.0.1 in c:\\users\\sanja\\anaconda3\\lib\\site-packages (from tensorboard<2.16,>=2.15->tensorflow-intel==2.15.0->tensorflow) (2.2.2)\n",
      "Requirement already satisfied: requests<3,>=2.21.0 in c:\\users\\sanja\\anaconda3\\lib\\site-packages (from tensorboard<2.16,>=2.15->tensorflow-intel==2.15.0->tensorflow) (2.28.1)\n",
      "Collecting tensorboard-data-server<0.8.0,>=0.7.0\n",
      "  Downloading tensorboard_data_server-0.7.2-py3-none-any.whl (2.4 kB)\n",
      "Collecting cachetools<6.0,>=2.0.0\n",
      "  Downloading cachetools-5.3.2-py3-none-any.whl (9.3 kB)\n",
      "Requirement already satisfied: pyasn1-modules>=0.2.1 in c:\\users\\sanja\\anaconda3\\lib\\site-packages (from google-auth<3,>=1.6.3->tensorboard<2.16,>=2.15->tensorflow-intel==2.15.0->tensorflow) (0.2.8)\n",
      "Collecting rsa<5,>=3.1.4\n",
      "  Downloading rsa-4.9-py3-none-any.whl (34 kB)\n",
      "Collecting requests-oauthlib>=0.7.0\n",
      "  Downloading requests_oauthlib-1.3.1-py2.py3-none-any.whl (23 kB)\n",
      "Requirement already satisfied: idna<4,>=2.5 in c:\\users\\sanja\\anaconda3\\lib\\site-packages (from requests<3,>=2.21.0->tensorboard<2.16,>=2.15->tensorflow-intel==2.15.0->tensorflow) (3.4)\n",
      "Requirement already satisfied: certifi>=2017.4.17 in c:\\users\\sanja\\anaconda3\\lib\\site-packages (from requests<3,>=2.21.0->tensorboard<2.16,>=2.15->tensorflow-intel==2.15.0->tensorflow) (2022.12.7)\n",
      "Requirement already satisfied: urllib3<1.27,>=1.21.1 in c:\\users\\sanja\\anaconda3\\lib\\site-packages (from requests<3,>=2.21.0->tensorboard<2.16,>=2.15->tensorflow-intel==2.15.0->tensorflow) (1.26.14)\n",
      "Requirement already satisfied: charset-normalizer<3,>=2 in c:\\users\\sanja\\anaconda3\\lib\\site-packages (from requests<3,>=2.21.0->tensorboard<2.16,>=2.15->tensorflow-intel==2.15.0->tensorflow) (2.0.4)\n",
      "Requirement already satisfied: MarkupSafe>=2.1.1 in c:\\users\\sanja\\anaconda3\\lib\\site-packages (from werkzeug>=1.0.1->tensorboard<2.16,>=2.15->tensorflow-intel==2.15.0->tensorflow) (2.1.1)\n",
      "Requirement already satisfied: pyasn1<0.5.0,>=0.4.6 in c:\\users\\sanja\\anaconda3\\lib\\site-packages (from pyasn1-modules>=0.2.1->google-auth<3,>=1.6.3->tensorboard<2.16,>=2.15->tensorflow-intel==2.15.0->tensorflow) (0.4.8)\n",
      "Collecting oauthlib>=3.0.0\n",
      "  Downloading oauthlib-3.2.2-py3-none-any.whl (151 kB)\n",
      "     ---------------------------------------- 151.7/151.7 kB ? eta 0:00:00\n",
      "Installing collected packages: libclang, flatbuffers, termcolor, tensorflow-io-gcs-filesystem, tensorflow-estimator, tensorboard-data-server, rsa, protobuf, opt-einsum, oauthlib, ml-dtypes, keras, grpcio, google-pasta, gast, cachetools, astunparse, absl-py, requests-oauthlib, google-auth, google-auth-oauthlib, tensorboard, tensorflow-intel, tensorflow\n",
      "Successfully installed absl-py-2.0.0 astunparse-1.6.3 cachetools-5.3.2 flatbuffers-23.5.26 gast-0.5.4 google-auth-2.23.4 google-auth-oauthlib-1.1.0 google-pasta-0.2.0 grpcio-1.59.2 keras-2.15.0 libclang-16.0.6 ml-dtypes-0.2.0 oauthlib-3.2.2 opt-einsum-3.3.0 protobuf-4.23.4 requests-oauthlib-1.3.1 rsa-4.9 tensorboard-2.15.1 tensorboard-data-server-0.7.2 tensorflow-2.15.0 tensorflow-estimator-2.15.0 tensorflow-intel-2.15.0 tensorflow-io-gcs-filesystem-0.31.0 termcolor-2.3.0\n",
      "Note: you may need to restart the kernel to use updated packages.\n"
     ]
    }
   ],
   "source": [
    "pip install tensorflow"
   ]
  },
  {
   "cell_type": "code",
   "execution_count": 26,
   "id": "b9cc781b",
   "metadata": {},
   "outputs": [],
   "source": [
    "from tensorflow import keras"
   ]
  },
  {
   "cell_type": "code",
   "execution_count": 27,
   "id": "6f3579b1",
   "metadata": {},
   "outputs": [],
   "source": [
    "#Install tensorflow to get these two lines worked\n",
    "from tensorflow.keras.models import Sequential\n",
    "from keras.layers import Dense"
   ]
  },
  {
   "cell_type": "code",
   "execution_count": 28,
   "id": "ac4a5392",
   "metadata": {},
   "outputs": [
    {
     "name": "stdout",
     "output_type": "stream",
     "text": [
      "WARNING:tensorflow:From C:\\Users\\sanja\\anaconda3\\lib\\site-packages\\keras\\src\\backend.py:873: The name tf.get_default_graph is deprecated. Please use tf.compat.v1.get_default_graph instead.\n",
      "\n"
     ]
    }
   ],
   "source": [
    "# define the keras model\n",
    "# start neural network\n",
    "model = Sequential()\n",
    "# add fully connected layer with a ReLU activation function\n",
    "model.add(Dense(12, input_dim=6, activation='relu'))\n",
    "# add fully connected layer with a ReLU activation function\n",
    "model.add(Dense(8, activation='relu'))\n",
    "# define the structure of the activation function of the output layer\n",
    "model.add(Dense(1))"
   ]
  },
  {
   "cell_type": "code",
   "execution_count": 29,
   "id": "40a358f8",
   "metadata": {},
   "outputs": [
    {
     "name": "stdout",
     "output_type": "stream",
     "text": [
      "WARNING:tensorflow:From C:\\Users\\sanja\\anaconda3\\lib\\site-packages\\keras\\src\\optimizers\\__init__.py:309: The name tf.train.Optimizer is deprecated. Please use tf.compat.v1.train.Optimizer instead.\n",
      "\n"
     ]
    }
   ],
   "source": [
    "# compile the keras model\n",
    "model.compile(loss='mean_squared_error', optimizer='RMSprop', metrics = ['mse'])"
   ]
  },
  {
   "cell_type": "code",
   "execution_count": 30,
   "id": "78aa1711",
   "metadata": {},
   "outputs": [
    {
     "name": "stdout",
     "output_type": "stream",
     "text": [
      "Epoch 1/10\n",
      "WARNING:tensorflow:From C:\\Users\\sanja\\anaconda3\\lib\\site-packages\\keras\\src\\utils\\tf_utils.py:492: The name tf.ragged.RaggedTensorValue is deprecated. Please use tf.compat.v1.ragged.RaggedTensorValue instead.\n",
      "\n",
      "WARNING:tensorflow:From C:\\Users\\sanja\\anaconda3\\lib\\site-packages\\keras\\src\\engine\\base_layer_utils.py:384: The name tf.executing_eagerly_outside_functions is deprecated. Please use tf.compat.v1.executing_eagerly_outside_functions instead.\n",
      "\n",
      "2052/2052 [==============================] - 2s 879us/step - loss: 18032.8418 - mse: 18032.8418\n",
      "Epoch 2/10\n",
      "2052/2052 [==============================] - 2s 853us/step - loss: 7569.7827 - mse: 7569.7827\n",
      "Epoch 3/10\n",
      "2052/2052 [==============================] - 2s 885us/step - loss: 858.3646 - mse: 858.3646\n",
      "Epoch 4/10\n",
      "2052/2052 [==============================] - 2s 903us/step - loss: 778.5151 - mse: 778.5150\n",
      "Epoch 5/10\n",
      "2052/2052 [==============================] - 2s 872us/step - loss: 758.2701 - mse: 758.2701\n",
      "Epoch 6/10\n",
      "2052/2052 [==============================] - 2s 872us/step - loss: 748.2720 - mse: 748.2720\n",
      "Epoch 7/10\n",
      "2052/2052 [==============================] - 2s 902us/step - loss: 745.8188 - mse: 745.8188\n",
      "Epoch 8/10\n",
      "2052/2052 [==============================] - 2s 869us/step - loss: 740.5462 - mse: 740.5462\n",
      "Epoch 9/10\n",
      "2052/2052 [==============================] - 2s 853us/step - loss: 734.2369 - mse: 734.2369\n",
      "Epoch 10/10\n",
      "2052/2052 [==============================] - 2s 869us/step - loss: 730.7346 - mse: 730.7346\n"
     ]
    },
    {
     "data": {
      "text/plain": [
       "<keras.src.callbacks.History at 0x201e1ad7220>"
      ]
     },
     "execution_count": 30,
     "metadata": {},
     "output_type": "execute_result"
    }
   ],
   "source": [
    "# fit the keras model on the dataset\n",
    "model.fit(X_train, y_train, epochs=10, batch_size=10)"
   ]
  },
  {
   "cell_type": "code",
   "execution_count": 31,
   "id": "9b1e3824",
   "metadata": {},
   "outputs": [
    {
     "name": "stdout",
     "output_type": "stream",
     "text": [
      "161/161 [==============================] - 0s 713us/step\n"
     ]
    }
   ],
   "source": [
    "# evaluate the model\n",
    "y_test_pred = model.predict(X_test)"
   ]
  },
  {
   "cell_type": "code",
   "execution_count": 34,
   "id": "68bc7dbe",
   "metadata": {},
   "outputs": [
    {
     "name": "stdout",
     "output_type": "stream",
     "text": [
      "Mean Squared Error on Test Data: 675.4364075263918\n"
     ]
    }
   ],
   "source": [
    "from sklearn import metrics\n",
    "print('Mean Squared Error on Test Data:', metrics.mean_squared_error(y_test, y_test_pred))  "
   ]
  },
  {
   "cell_type": "code",
   "execution_count": 33,
   "id": "d2f65bfb",
   "metadata": {},
   "outputs": [
    {
     "name": "stdout",
     "output_type": "stream",
     "text": [
      "R squared on test set: 0.8526464520730217\n"
     ]
    }
   ],
   "source": [
    "from sklearn.metrics import r2_score\n",
    "\n",
    "r_sq_test = r2_score(y_test, y_test_pred)\n",
    "print('R squared on test set:', r_sq_test)"
   ]
  },
  {
   "cell_type": "code",
   "execution_count": null,
   "id": "11d3805d",
   "metadata": {},
   "outputs": [],
   "source": [
    "#This model performs better than the other model becaus eit has a lower MSE anda  higher R^2 value"
   ]
  }
 ],
 "metadata": {
  "kernelspec": {
   "display_name": "Python 3 (ipykernel)",
   "language": "python",
   "name": "python3"
  },
  "language_info": {
   "codemirror_mode": {
    "name": "ipython",
    "version": 3
   },
   "file_extension": ".py",
   "mimetype": "text/x-python",
   "name": "python",
   "nbconvert_exporter": "python",
   "pygments_lexer": "ipython3",
   "version": "3.10.9"
  }
 },
 "nbformat": 4,
 "nbformat_minor": 5
}
